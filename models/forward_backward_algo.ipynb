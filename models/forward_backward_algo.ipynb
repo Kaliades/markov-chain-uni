{
  "nbformat": 4,
  "nbformat_minor": 0,
  "metadata": {
    "kernelspec": {
      "display_name": "Python 3",
      "language": "python",
      "name": "python3"
    },
    "language_info": {
      "codemirror_mode": {
        "name": "ipython",
        "version": 2
      },
      "file_extension": ".py",
      "mimetype": "text/x-python",
      "name": "python",
      "nbconvert_exporter": "python",
      "pygments_lexer": "ipython2",
      "version": "2.7.6"
    },
    "pycharm": {
      "stem_cell": {
        "cell_type": "raw",
        "source": [
          "\n",
          "\n",
          "\n",
          "\n"
        ],
        "metadata": {
          "collapsed": false
        }
      }
    },
    "colab": {
      "name": "forward-backward_algo.ipynb",
      "provenance": [],
      "collapsed_sections": []
    }
  },
  "cells": [
    {
      "cell_type": "markdown",
      "metadata": {
        "id": "s8mS3o-DE8pF",
        "colab_type": "text"
      },
      "source": [
        "Algorytm Forward-Backward\n",
        "==="
      ]
    },
    {
      "cell_type": "markdown",
      "metadata": {
        "id": "uC112ksFFhql",
        "colab_type": "text"
      },
      "source": [
        "# Teoria"
      ]
    },
    {
      "cell_type": "markdown",
      "metadata": {
        "id": "U1WD9VgAGEQo",
        "colab_type": "text"
      },
      "source": [
        "Mamy dany model $\\lambda = (A, B, \\pi)$. Jak możemy policzyć $P(O|\\lambda) $, prawdopodobieństwo wystąpienia sekwencji obserwacji:"
      ]
    },
    {
      "cell_type": "markdown",
      "metadata": {
        "id": "F_jZuaXTIBa6",
        "colab_type": "text"
      },
      "source": [
        "$$ O = (o_{0}, o_{1}, ..., o_{T-1})$$"
      ]
    },
    {
      "cell_type": "markdown",
      "metadata": {
        "id": "Y-k--pUtIaoQ",
        "colab_type": "text"
      },
      "source": [
        "Metoda bezpośrednia polega na znalezieniu $P(O|\\textbf{q},\\lambda)$ dla sekwencji stanu skończonego. Wtedy mnożymy przez $P(\\textbf{q}|\\lambda)$ i sumujemy przez wszystkie możliwe sekwencje stanu. Mamy:"
      ]
    },
    {
      "cell_type": "markdown",
      "metadata": {
        "id": "mC8RE-e3KWmx",
        "colab_type": "text"
      },
      "source": [
        "$$ P(O|\\textbf{q}, \\lambda) = \\prod_{t=0}^{T-1} P(o_{t}|q_{t}, \\lambda) $$"
      ]
    },
    {
      "cell_type": "markdown",
      "metadata": {
        "id": "DaaZgxJpLwns",
        "colab_type": "text"
      },
      "source": [
        "gdzie założyliśmy statystyczną niezależność obserwacji. Znajdujemy więc:"
      ]
    },
    {
      "cell_type": "markdown",
      "metadata": {
        "id": "pINl4XxGL-IS",
        "colab_type": "text"
      },
      "source": [
        "$$ P(O|\\textbf{q}, \\lambda) = b_{q_0}(o_0)b_{q_1}(o_1)...b_{q_{T-1}}(o_{T-1}) $$"
      ]
    },
    {
      "cell_type": "markdown",
      "metadata": {
        "id": "yHGSc9rSMqhG",
        "colab_type": "text"
      },
      "source": [
        "Prawdopodobieństwo sekwencji stanu $\\textbf{q}$ może być zapisane jako:"
      ]
    },
    {
      "cell_type": "markdown",
      "metadata": {
        "id": "MrItUTvVOSQa",
        "colab_type": "text"
      },
      "source": [
        "$$ P(\\textbf{q}|\\lambda) = \\pi_{q_0}a_{q_0 q_{1}}a_{q_1 q_{2}}...a_{q_{T-2}q_{T-1}} $$"
      ]
    },
    {
      "cell_type": "markdown",
      "metadata": {
        "id": "YPVlWAcxQ1M7",
        "colab_type": "text"
      },
      "source": [
        "Prawdopodobieństwo, że $O$ i $\\textbf{q}$ zachodzą jednocześnie, to iloczyn dwóch powyższych wyrażeń:"
      ]
    },
    {
      "cell_type": "markdown",
      "metadata": {
        "id": "npEebezBRJjM",
        "colab_type": "text"
      },
      "source": [
        "$$ P(O, \\textbf{q}| \\lambda) = P(O|\\textbf{q},\\lambda)P(\\textbf{q}|\\lambda) $$"
      ]
    },
    {
      "cell_type": "markdown",
      "metadata": {
        "id": "e_7KBPYwSBc1",
        "colab_type": "text"
      },
      "source": [
        "Prawdopodobieństwo wystąpienia $O$ (mając dany model) uzyskujemye sumując powyższe wyrażenie przez wszystkie możliwe sekwencje stanu $\\textbf{q}$. Mamy więc:"
      ]
    },
    {
      "cell_type": "markdown",
      "metadata": {
        "id": "T_3WS9TOS-3k",
        "colab_type": "text"
      },
      "source": [
        "$$ P(O|\\lambda) = \\sum_{\\textbf{q}} P(O|\\textbf{q}, \\lambda)P(\\textbf{q}|\\lambda)$$"
      ]
    },
    {
      "cell_type": "markdown",
      "metadata": {
        "id": "xc5tH3e4V6eX",
        "colab_type": "text"
      },
      "source": [
        "Po rozwinięciu otrzymujemy:"
      ]
    },
    {
      "cell_type": "markdown",
      "metadata": {
        "id": "7OB6ojF5WItq",
        "colab_type": "text"
      },
      "source": [
        "$$ P(O|\\lambda) = \\sum_{q_{0},q_{1}, ..., q_{T-1}} \\pi_{q_0}b_{q_0}(o_0)a_{q_0 q_1}b_{q_1}(o_1)... a_{q_{T-2}q_{T-1}}b_{q_{T-1}}(o_{T-1})$$ "
      ]
    },
    {
      "cell_type": "markdown",
      "metadata": {
        "id": "TvwnSkcaZS6Z",
        "colab_type": "text"
      },
      "source": [
        ""
      ]
    }
  ]
}