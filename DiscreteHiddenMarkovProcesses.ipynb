{
  "nbformat": 4,
  "nbformat_minor": 0,
  "metadata": {
    "colab": {
      "name": "DiscreteHiddenMarkovProcesses.ipynb",
      "provenance": [],
      "collapsed_sections": [],
      "authorship_tag": "ABX9TyNnvK8kb38vsJLhyf0S6AtS"
    },
    "kernelspec": {
      "name": "python3",
      "display_name": "Python 3"
    }
  },
  "cells": [
    {
      "cell_type": "markdown",
      "metadata": {
        "id": "attx8oCzWBIC",
        "colab_type": "text"
      },
      "source": [
        "Używamy następującej notacji: <br>\n",
        "$N$ - licza stanów w modelu <br>\n",
        "$M$ - całkowita liczba różnych obserwacji symboli alfabetu. Jeżeli obserwacje są ciągłe to $M$ jest nieskończone. Zakładamy, że $M$ jest skończone. <br>\n",
        "$T$ - długość sekwencji obserwacji (zestaw danych do wytrenowania) gdzie: <br>\n",
        "$t = 0, 1, ..., T - 1$. Istnieje zatem $N^T$ możliwych sekwencji stanu. <br>\n",
        "Niech $\\Omega_q := \\{q_{0}, q_{1}, ... , q_{N - 1} \\}$ będzie skończonym zbiorem możliwych stanów. <br>\n",
        "Niech $V := \\{v_{0}, v_{1}, ... , v_{M - 1} \\}$ będzie skończonym zbiorem możliwych symboli obserwacji. <br>\n",
        "$q_t$ to zmienna losowa oznaczająca stan w czasie t (zmienna stanu)<br>\n",
        "$o_t$ to zmienna losowa oznaczająca obserwację w czasie $t$ (zmienna wynikowa)<br>\n",
        "$O = (o_{0}, o_{1}, ... , o_{T - 1})$ to sekwencja rzeczywistych obserwacji.<br>\n",
        "Zbiór prawdopodobieństw dla przejść stanu to $A = (a_{ij})$ gdzie $i, j = 0, 1, ..., N - 1$<br>\n",
        "$a_{ij} = p(q_{t + 1} = j|q_{t} = i)$\n",
        "gdzie $p$ jest prawdopodobieństwem stan-przejście tzn. prawdopodobieństwem  bycia w stanie $j$ w czasie $t+1$ gdy układ był w stanie $i$ w czasie $t$. Zakładamy, że $a_{ij}$-ty są niezależne od czasu $t$.\n"
      ]
    },
    {
      "cell_type": "markdown",
      "metadata": {
        "id": "AdNo3RgVfP88",
        "colab_type": "text"
      },
      "source": [
        "Mamy więc warunki dla $a_{ij}$:<br>\n",
        "$a_{ij} \\geq 0$ dla $i, j = 0, 1, ..., N - 1$ <br>\n",
        "$\\sum_{j=0}^{N - 1} a_{ij}= 1$ dla $i, j = 0, 1, ..., N - 1$ <br>\n",
        "Więc $A$ jest macierzą $N x N$"
      ]
    },
    {
      "cell_type": "markdown",
      "metadata": {
        "id": "7Pw88VJAgteh",
        "colab_type": "text"
      },
      "source": [
        "**Przykład**. Jeżeli mamy $6$ stanów macierz przejścia w rozpoznawaniu mowy może wyglądać następująco:<br>\n",
        "<br>\n",
        "$$ A = \\left( \\begin{matrix} 0.3 & 0.5 & 0.2 & 0 & 0 & 0 \\\\ 0 & 0.4 & 0.3 & 0.3 & 0 & 0 \\\\ 0 & 0 & 0.4 & 0.2 & 0.4 & 0 \\\\ 0 & 0 & 0 & 0.7 & 0.2 & 0.1 \\\\ 0 & 0 & 0 & 0 & 0.5 & 0.5 \\\\ 0 & 0 & 0 & 0 & 0 & 1.0 \\end{matrix} \\right) $$<br>\n",
        "Warunkowy rozkład prawdopodobieństwa obserwacji w $t$, $o_t$, w danym stanie $j$ wynosi:<br>\n",
        "$b_{j}(k) = p(o_{t} = v_{k}|q_{t}=j)$ gdzie $j \\in \\{ 0, 1 , ..., N - 1 \\}$ a $k \\in \\{ 0, 1 , ..., M - 1 \\}$ tzn. $p$ jest prawdopodobieństwem zaobserwowania symbolu $v_k$ poprzez dany stan $j$. Niech $B:= \\{b_{j}(k)\\}$. Mamy wtedy:"
      ]
    },
    {
      "cell_type": "markdown",
      "metadata": {
        "id": "JSeAqmge7PZA",
        "colab_type": "text"
      },
      "source": [
        "$$ b_{j}(k) \\geq 0$$"
      ]
    },
    {
      "cell_type": "markdown",
      "metadata": {
        "id": "ZSqIH5oZ7fxI",
        "colab_type": "text"
      },
      "source": [
        "dla $j \\in \\{ 0, 1, ..., N-1 \\}$ i $k \\in \\{ 0, 1, M - 1 \\}$ oraz:"
      ]
    },
    {
      "cell_type": "markdown",
      "metadata": {
        "id": "z3ns0IFS71dm",
        "colab_type": "text"
      },
      "source": [
        "$$\\sum_{k=0}^{M - 1} b_{j}(k)= 1$$"
      ]
    },
    {
      "cell_type": "markdown",
      "metadata": {
        "id": "B9pgyjJs8SV2",
        "colab_type": "text"
      },
      "source": [
        "dla $j = 0, 1, ..., N - 1$"
      ]
    },
    {
      "cell_type": "markdown",
      "metadata": {
        "id": "CimVC5Wz7HOW",
        "colab_type": "text"
      },
      "source": [
        "Rozkład stanu początkowego $\\pi = \\{ \\pi_i\\}$:"
      ]
    },
    {
      "cell_type": "markdown",
      "metadata": {
        "id": "2O1vkl9j_N_Y",
        "colab_type": "text"
      },
      "source": [
        ""
      ]
    }
  ]
}